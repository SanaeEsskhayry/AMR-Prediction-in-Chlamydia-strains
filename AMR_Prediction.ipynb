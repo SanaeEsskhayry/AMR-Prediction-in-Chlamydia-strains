{
  "nbformat": 4,
  "nbformat_minor": 0,
  "metadata": {
    "colab": {
      "provenance": [],
      "authorship_tag": "ABX9TyP3Ln3mJ4Sj/cAD1iY7yoF7",
      "include_colab_link": true
    },
    "kernelspec": {
      "name": "python3",
      "display_name": "Python 3"
    },
    "language_info": {
      "name": "python"
    }
  },
  "cells": [
    {
      "cell_type": "markdown",
      "metadata": {
        "id": "view-in-github",
        "colab_type": "text"
      },
      "source": [
        "<a href=\"https://colab.research.google.com/github/SanaeEsskhayry/AMR-Prediction-in-Chlamydia-strains/blob/master/AMR_Prediction.ipynb\" target=\"_parent\"><img src=\"https://colab.research.google.com/assets/colab-badge.svg\" alt=\"Open In Colab\"/></a>"
      ]
    },
    {
      "cell_type": "code",
      "execution_count": 1,
      "metadata": {
        "colab": {
          "base_uri": "https://localhost:8080/"
        },
        "id": "sDV96nyTkJDJ",
        "outputId": "eb7006f6-b7a4-492b-cc9a-6b467e9a0d6e"
      },
      "outputs": [
        {
          "output_type": "stream",
          "name": "stdout",
          "text": [
            "PREFIX=/usr/local\n",
            "Unpacking payload ...\n",
            "                                                                                   \n",
            "Installing base environment...\n",
            "\n",
            "\n",
            "Downloading and Extracting Packages\n",
            "\n",
            "\n",
            "Downloading and Extracting Packages\n",
            "\n",
            "Preparing transaction: - \b\b\\ \b\b| \b\b/ \b\b- \b\bdone\n",
            "Executing transaction: | \b\b/ \b\b- \b\b\\ \b\b| \b\b/ \b\b- \b\b\\ \b\b| \b\b/ \b\b- \b\b\\ \b\b| \b\b/ \b\b- \b\b\\ \b\b| \b\b/ \b\b- \b\b\\ \b\b| \b\b/ \b\b- \b\b\\ \b\b| \b\b/ \b\b- \b\b\\ \b\b| \b\b/ \b\b- \b\bdone\n",
            "installation finished.\n",
            "WARNING:\n",
            "    You currently have a PYTHONPATH environment variable set. This may cause\n",
            "    unexpected behavior when running the Python interpreter in Miniconda3.\n",
            "    For best results, please verify that your PYTHONPATH only points to\n",
            "    directories of packages that are compatible with the Python interpreter\n",
            "    in Miniconda3: /usr/local\n",
            "Collecting package metadata (current_repodata.json): ...working... done\n",
            "Solving environment: ...working... done\n",
            "\n",
            "## Package Plan ##\n",
            "\n",
            "  environment location: /usr/local\n",
            "\n",
            "  added / updated specs:\n",
            "    - conda\n",
            "\n",
            "\n",
            "The following packages will be downloaded:\n",
            "\n",
            "    package                    |            build\n",
            "    ---------------------------|-----------------\n",
            "    certifi-2023.7.22          |  py311h06a4308_0         154 KB\n",
            "    conda-23.7.2               |  py311h06a4308_0         1.3 MB\n",
            "    conda-package-handling-2.2.0|  py311h06a4308_0         278 KB\n",
            "    conda-package-streaming-0.9.0|  py311h06a4308_0          33 KB\n",
            "    libcurl-8.1.1              |       h251f7ec_2         397 KB\n",
            "    openssl-3.0.10             |       h7f8727e_0         5.2 MB\n",
            "    pyopenssl-23.2.0           |  py311h06a4308_0         121 KB\n",
            "    requests-2.31.0            |  py311h06a4308_0         124 KB\n",
            "    ------------------------------------------------------------\n",
            "                                           Total:         7.6 MB\n",
            "\n",
            "The following packages will be UPDATED:\n",
            "\n",
            "  certifi                          2023.5.7-py311h06a4308_0 --> 2023.7.22-py311h06a4308_0 \n",
            "  conda                              23.5.2-py311h06a4308_0 --> 23.7.2-py311h06a4308_0 \n",
            "  conda-package-han~                  2.1.0-py311h06a4308_0 --> 2.2.0-py311h06a4308_0 \n",
            "  conda-package-str~                  0.8.0-py311h06a4308_0 --> 0.9.0-py311h06a4308_0 \n",
            "  libcurl                                  8.1.1-h251f7ec_1 --> 8.1.1-h251f7ec_2 \n",
            "  openssl                                  3.0.9-h7f8727e_0 --> 3.0.10-h7f8727e_0 \n",
            "  pyopenssl                          23.0.0-py311h06a4308_0 --> 23.2.0-py311h06a4308_0 \n",
            "  requests                           2.29.0-py311h06a4308_0 --> 2.31.0-py311h06a4308_0 \n",
            "\n",
            "\n",
            "Preparing transaction: ...working... done\n",
            "Verifying transaction: ...working... done\n",
            "Executing transaction: ...working... done\n"
          ]
        }
      ],
      "source": [
        "# Download and install Miniconda\n",
        "!wget -q https://repo.anaconda.com/miniconda/Miniconda3-latest-Linux-x86_64.sh -O miniconda.sh\n",
        "!bash miniconda.sh -bfp /usr/local\n",
        "\n",
        "# Add conda to your PATH\n",
        "import sys\n",
        "sys.path.append('/usr/local/lib/python3.7/site-packages')\n",
        "\n",
        "# Update conda\n",
        "!conda update -q -y conda\n"
      ]
    },
    {
      "cell_type": "code",
      "source": [
        "!conda --version"
      ],
      "metadata": {
        "colab": {
          "base_uri": "https://localhost:8080/"
        },
        "id": "s03xArmWksfb",
        "outputId": "e5c9b9b5-c685-4c2c-977e-156e4094dd40"
      },
      "execution_count": 2,
      "outputs": [
        {
          "output_type": "stream",
          "name": "stdout",
          "text": [
            "conda 23.7.2\n"
          ]
        }
      ]
    },
    {
      "cell_type": "code",
      "source": [
        "! wget https://github.com/raghavagps/Pfeature/raw/master/PyLib/Pfeature.zip"
      ],
      "metadata": {
        "colab": {
          "base_uri": "https://localhost:8080/"
        },
        "id": "llXBDGt7kvMn",
        "outputId": "88c41a12-eebe-43fa-f527-59ebefa13e07"
      },
      "execution_count": 3,
      "outputs": [
        {
          "output_type": "stream",
          "name": "stdout",
          "text": [
            "--2023-08-21 00:52:36--  https://github.com/raghavagps/Pfeature/raw/master/PyLib/Pfeature.zip\n",
            "Resolving github.com (github.com)... 20.27.177.113\n",
            "Connecting to github.com (github.com)|20.27.177.113|:443... connected.\n",
            "HTTP request sent, awaiting response... 302 Found\n",
            "Location: https://raw.githubusercontent.com/raghavagps/Pfeature/master/PyLib/Pfeature.zip [following]\n",
            "--2023-08-21 00:52:36--  https://raw.githubusercontent.com/raghavagps/Pfeature/master/PyLib/Pfeature.zip\n",
            "Resolving raw.githubusercontent.com (raw.githubusercontent.com)... 185.199.111.133, 185.199.108.133, 185.199.110.133, ...\n",
            "Connecting to raw.githubusercontent.com (raw.githubusercontent.com)|185.199.111.133|:443... connected.\n",
            "HTTP request sent, awaiting response... 200 OK\n",
            "Length: 519486 (507K) [application/zip]\n",
            "Saving to: ‘Pfeature.zip’\n",
            "\n",
            "Pfeature.zip        100%[===================>] 507.31K  --.-KB/s    in 0.05s   \n",
            "\n",
            "2023-08-21 00:52:37 (10.9 MB/s) - ‘Pfeature.zip’ saved [519486/519486]\n",
            "\n"
          ]
        }
      ]
    },
    {
      "cell_type": "code",
      "source": [
        "! unzip Pfeature.zip"
      ],
      "metadata": {
        "colab": {
          "base_uri": "https://localhost:8080/"
        },
        "id": "9cRDSRdalC-S",
        "outputId": "26475d2b-0854-4360-9cee-c49c224cf2f7"
      },
      "execution_count": 4,
      "outputs": [
        {
          "output_type": "stream",
          "name": "stdout",
          "text": [
            "Archive:  Pfeature.zip\n",
            "   creating: Pfeature/\n",
            "  inflating: Pfeature/PKG-INFO       \n",
            "   creating: __MACOSX/\n",
            "   creating: __MACOSX/Pfeature/\n",
            "  inflating: __MACOSX/Pfeature/._PKG-INFO  \n",
            "  inflating: Pfeature/README         \n",
            "  inflating: __MACOSX/Pfeature/._README  \n",
            "  inflating: Pfeature/setup.py       \n",
            "  inflating: __MACOSX/Pfeature/._setup.py  \n",
            "  inflating: Pfeature/Functions_Tables.pdf  \n",
            "  inflating: __MACOSX/Pfeature/._Functions_Tables.pdf  \n",
            "   creating: Pfeature/build/\n",
            "   creating: Pfeature/build/lib/\n",
            "   creating: Pfeature/build/lib/Pfeature/\n",
            "  inflating: Pfeature/build/lib/Pfeature/bonds.csv  \n",
            "   creating: __MACOSX/Pfeature/build/\n",
            "   creating: __MACOSX/Pfeature/build/lib/\n",
            "   creating: __MACOSX/Pfeature/build/lib/Pfeature/\n",
            "  inflating: __MACOSX/Pfeature/build/lib/Pfeature/._bonds.csv  \n",
            "  inflating: Pfeature/build/lib/Pfeature/pfeature.py  \n",
            "  inflating: __MACOSX/Pfeature/build/lib/Pfeature/._pfeature.py  \n",
            "  inflating: Pfeature/build/lib/Pfeature/AAIndexNames.csv  \n",
            "  inflating: __MACOSX/Pfeature/build/lib/Pfeature/._AAIndexNames.csv  \n",
            "  inflating: Pfeature/build/lib/Pfeature/aaindices.csv  \n",
            "  inflating: __MACOSX/Pfeature/build/lib/Pfeature/._aaindices.csv  \n",
            "  inflating: Pfeature/build/lib/Pfeature/atom.csv  \n",
            "  inflating: __MACOSX/Pfeature/build/lib/Pfeature/._atom.csv  \n",
            "  inflating: Pfeature/build/lib/Pfeature/PhysicoChemical.csv  \n",
            "  inflating: __MACOSX/Pfeature/build/lib/Pfeature/._PhysicoChemical.csv  \n",
            "  inflating: Pfeature/build/lib/Pfeature/__init__.py  \n",
            "  inflating: __MACOSX/Pfeature/build/lib/Pfeature/.___init__.py  \n",
            "  inflating: Pfeature/build/lib/Pfeature/z_aaindex.csv  \n",
            "  inflating: __MACOSX/Pfeature/build/lib/Pfeature/._z_aaindex.csv  \n",
            "  inflating: Pfeature/build/lib/Pfeature/aaindex.csv  \n",
            "  inflating: __MACOSX/Pfeature/build/lib/Pfeature/._aaindex.csv  \n",
            "  inflating: Pfeature/build/lib/Pfeature/bin_di.csv  \n",
            "  inflating: __MACOSX/Pfeature/build/lib/Pfeature/._bin_di.csv  \n",
            "  inflating: Pfeature/build/lib/Pfeature/Grantham.csv  \n",
            "  inflating: __MACOSX/Pfeature/build/lib/Pfeature/._Grantham.csv  \n",
            "  inflating: Pfeature/build/lib/Pfeature/can_pat.csv  \n",
            "  inflating: __MACOSX/Pfeature/build/lib/Pfeature/._can_pat.csv  \n",
            "  inflating: Pfeature/build/lib/Pfeature/aa_attr_group.csv  \n",
            "  inflating: __MACOSX/Pfeature/build/lib/Pfeature/._aa_attr_group.csv  \n",
            "  inflating: Pfeature/build/lib/Pfeature/Schneider-Wrede.csv  \n",
            "  inflating: __MACOSX/Pfeature/build/lib/Pfeature/._Schneider-Wrede.csv  \n",
            "  inflating: Pfeature/build/lib/Pfeature/data  \n",
            "  inflating: __MACOSX/Pfeature/build/lib/Pfeature/._data  \n",
            "  inflating: Pfeature/build/lib/Pfeature/aaind.txt  \n",
            "  inflating: __MACOSX/Pfeature/build/lib/Pfeature/._aaind.txt  \n",
            "  inflating: __MACOSX/Pfeature/build/lib/._Pfeature  \n",
            "  inflating: __MACOSX/Pfeature/build/._lib  \n",
            "  inflating: __MACOSX/Pfeature/._build  \n",
            "  inflating: Pfeature/Pfeature_Descriptors.pdf  \n",
            "  inflating: __MACOSX/Pfeature/._Pfeature_Descriptors.pdf  \n",
            "   creating: Pfeature/Pfeature/\n",
            "  inflating: Pfeature/Pfeature/bonds.csv  \n",
            "   creating: __MACOSX/Pfeature/Pfeature/\n",
            "  inflating: __MACOSX/Pfeature/Pfeature/._bonds.csv  \n",
            "  inflating: Pfeature/Pfeature/pfeature.py  \n",
            "  inflating: __MACOSX/Pfeature/Pfeature/._pfeature.py  \n",
            "  inflating: Pfeature/Pfeature/AAIndexNames.csv  \n",
            "  inflating: __MACOSX/Pfeature/Pfeature/._AAIndexNames.csv  \n",
            "  inflating: Pfeature/Pfeature/aaindices.csv  \n",
            "  inflating: __MACOSX/Pfeature/Pfeature/._aaindices.csv  \n",
            "  inflating: Pfeature/Pfeature/atom.csv  \n",
            "  inflating: __MACOSX/Pfeature/Pfeature/._atom.csv  \n",
            "  inflating: Pfeature/Pfeature/PhysicoChemical.csv  \n",
            "  inflating: __MACOSX/Pfeature/Pfeature/._PhysicoChemical.csv  \n",
            "  inflating: Pfeature/Pfeature/__init__.py  \n",
            "  inflating: __MACOSX/Pfeature/Pfeature/.___init__.py  \n",
            "  inflating: Pfeature/Pfeature/z_aaindex.csv  \n",
            "  inflating: __MACOSX/Pfeature/Pfeature/._z_aaindex.csv  \n",
            "  inflating: Pfeature/Pfeature/aaindex.csv  \n",
            "  inflating: __MACOSX/Pfeature/Pfeature/._aaindex.csv  \n",
            "  inflating: Pfeature/Pfeature/bin_di.csv  \n",
            "  inflating: __MACOSX/Pfeature/Pfeature/._bin_di.csv  \n",
            "  inflating: Pfeature/Pfeature/Grantham.csv  \n",
            "  inflating: __MACOSX/Pfeature/Pfeature/._Grantham.csv  \n",
            "  inflating: Pfeature/Pfeature/can_pat.csv  \n",
            "  inflating: __MACOSX/Pfeature/Pfeature/._can_pat.csv  \n",
            "  inflating: Pfeature/Pfeature/aa_attr_group.csv  \n",
            "  inflating: __MACOSX/Pfeature/Pfeature/._aa_attr_group.csv  \n",
            "  inflating: Pfeature/Pfeature/Schneider-Wrede.csv  \n",
            "  inflating: __MACOSX/Pfeature/Pfeature/._Schneider-Wrede.csv  \n",
            "  inflating: Pfeature/Pfeature/data  \n",
            "  inflating: __MACOSX/Pfeature/Pfeature/._data  \n",
            "  inflating: Pfeature/Pfeature/aaind.txt  \n",
            "  inflating: __MACOSX/Pfeature/Pfeature/._aaind.txt  \n",
            "  inflating: __MACOSX/Pfeature/._Pfeature  \n",
            "  inflating: __MACOSX/._Pfeature     \n"
          ]
        }
      ]
    },
    {
      "cell_type": "code",
      "source": [
        "%cd Pfeature"
      ],
      "metadata": {
        "colab": {
          "base_uri": "https://localhost:8080/"
        },
        "id": "MMi5_Hm_lN1v",
        "outputId": "c3cccce4-a778-4477-c5b4-c0464ae4ef57"
      },
      "execution_count": 5,
      "outputs": [
        {
          "output_type": "stream",
          "name": "stdout",
          "text": [
            "/content/Pfeature\n"
          ]
        }
      ]
    },
    {
      "cell_type": "code",
      "source": [
        "!pip install ."
      ],
      "metadata": {
        "colab": {
          "base_uri": "https://localhost:8080/"
        },
        "id": "1dI87oBLlYNB",
        "outputId": "9d7f51a0-f9c4-4657-ae6b-9b8227518527"
      },
      "execution_count": 11,
      "outputs": [
        {
          "output_type": "stream",
          "name": "stdout",
          "text": [
            "Processing /content/Pfeature\n",
            "  Preparing metadata (setup.py) ... \u001b[?25l\u001b[?25hdone\n",
            "Building wheels for collected packages: Pfeature\n",
            "  Building wheel for Pfeature (setup.py) ... \u001b[?25l\u001b[?25hdone\n",
            "  Created wheel for Pfeature: filename=Pfeature-1.0-py3-none-any.whl size=128366 sha256=17acb0bcafcd34e6e3c3f4f69b1a7ff73cf7a9ab4d75adc71c91dcc7a547fcf7\n",
            "  Stored in directory: /tmp/pip-ephem-wheel-cache-7d8zt93x/wheels/18/48/6d/f17b73aafb46d15b5b67c0e85ced7dc6bdd28eb5f985a49edd\n",
            "Successfully built Pfeature\n",
            "Installing collected packages: Pfeature\n",
            "  Attempting uninstall: Pfeature\n",
            "    Found existing installation: Pfeature 1.0\n",
            "    Uninstalling Pfeature-1.0:\n",
            "      Successfully uninstalled Pfeature-1.0\n",
            "Successfully installed Pfeature-1.0\n",
            "\u001b[33mWARNING: Running pip as the 'root' user can result in broken permissions and conflicting behaviour with the system package manager. It is recommended to use a virtual environment instead: https://pip.pypa.io/warnings/venv\u001b[0m\u001b[33m\n",
            "\u001b[0m"
          ]
        }
      ]
    },
    {
      "cell_type": "markdown",
      "source": [
        "***Install CD-HIT***"
      ],
      "metadata": {
        "id": "Uty_koegncsu"
      }
    },
    {
      "cell_type": "code",
      "source": [
        "! conda install -c bioconda cd-hit -y"
      ],
      "metadata": {
        "colab": {
          "base_uri": "https://localhost:8080/"
        },
        "id": "q6TmHdgLl-Gh",
        "outputId": "b4bb123d-9bcf-474c-969f-eec22ecf96ec"
      },
      "execution_count": 12,
      "outputs": [
        {
          "output_type": "stream",
          "name": "stdout",
          "text": [
            "Collecting package metadata (current_repodata.json): - \b\b\\ \b\b| \b\b/ \b\b- \b\b\\ \b\b| \b\b/ \b\b- \b\b\\ \b\b| \b\b/ \b\b- \b\b\\ \b\b| \b\b/ \b\b- \b\b\\ \b\b| \b\b/ \b\b- \b\b\\ \b\b| \b\b/ \b\b- \b\b\\ \b\b| \b\b/ \b\b- \b\b\\ \b\b| \b\b/ \b\b- \b\b\\ \b\b| \b\b/ \b\b- \b\b\\ \b\b| \b\b/ \b\b- \b\b\\ \b\b| \b\b/ \b\b- \b\b\\ \b\b| \b\b/ \b\b- \b\b\\ \b\b| \b\b/ \b\b- \b\b\\ \b\b| \b\b/ \b\b- \b\b\\ \b\b| \b\b/ \b\b- \b\b\\ \b\b| \b\b/ \b\b- \b\b\\ \b\b| \b\b/ \b\b- \b\b\\ \b\b| \b\bdone\n",
            "Solving environment: - \b\b\\ \b\b| \b\b/ \b\b- \b\b\\ \b\b| \b\b/ \b\b- \b\b\\ \b\b| \b\bdone\n",
            "\n",
            "## Package Plan ##\n",
            "\n",
            "  environment location: /usr/local\n",
            "\n",
            "  added / updated specs:\n",
            "    - cd-hit\n",
            "\n",
            "\n",
            "The following packages will be downloaded:\n",
            "\n",
            "    package                    |            build\n",
            "    ---------------------------|-----------------\n",
            "    cd-hit-4.8.1               |       h2e03b76_5         251 KB  bioconda\n",
            "    ------------------------------------------------------------\n",
            "                                           Total:         251 KB\n",
            "\n",
            "The following NEW packages will be INSTALLED:\n",
            "\n",
            "  cd-hit             bioconda/linux-64::cd-hit-4.8.1-h2e03b76_5 \n",
            "\n",
            "\n",
            "\n",
            "Downloading and Extracting Packages\n",
            "                                                                        \n",
            "Preparing transaction: - \b\bdone\n",
            "Verifying transaction: | \b\bdone\n",
            "Executing transaction: - \b\bdone\n"
          ]
        }
      ]
    },
    {
      "cell_type": "code",
      "source": [],
      "metadata": {
        "id": "s3JclrLFn4rQ"
      },
      "execution_count": null,
      "outputs": []
    }
  ]
}